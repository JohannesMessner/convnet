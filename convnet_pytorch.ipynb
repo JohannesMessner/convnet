{
 "cells": [
  {
   "cell_type": "code",
   "execution_count": 1,
   "metadata": {},
   "outputs": [],
   "source": [
    "import torch\n",
    "import torchvision\n",
    "import torchvision.transforms as transforms\n",
    "import torch.nn as nn\n",
    "import torch.nn.functional as F\n",
    "import torch.optim as optim\n",
    "import numpy as np"
   ]
  },
  {
   "cell_type": "markdown",
   "metadata": {},
   "source": [
    "# Getting the data"
   ]
  },
  {
   "cell_type": "code",
   "execution_count": 2,
   "metadata": {},
   "outputs": [],
   "source": [
    "transform = transforms.Compose(\n",
    "    [transforms.ToTensor()])\n",
    "trainset = torchvision.datasets.MNIST(root='./data', train=True,\n",
    "                                        download=True, transform=transform)\n",
    "trainloader = torch.utils.data.DataLoader(trainset, batch_size=50,\n",
    "                                          shuffle=False, drop_last=True)\n",
    "testset = torchvision.datasets.MNIST(root='./data', train=False,\n",
    "                                        download=True, transform=transform)\n",
    "testloader = torch.utils.data.DataLoader(trainset, batch_size=50,\n",
    "                                          shuffle=False, drop_last=True)"
   ]
  },
  {
   "cell_type": "code",
   "execution_count": null,
   "metadata": {},
   "outputs": [],
   "source": [
    "dataiter = iter(trainloader)\n",
    "images, labels = dataiter.next()\n",
    "print(images.shape)\n",
    "print(images[0])"
   ]
  },
  {
   "cell_type": "markdown",
   "metadata": {},
   "source": [
    "# Specifying the model architecture"
   ]
  },
  {
   "cell_type": "code",
   "execution_count": 3,
   "metadata": {},
   "outputs": [],
   "source": [
    "class Net(nn.Module):\n",
    "    def __init__(self):\n",
    "        super(Net, self).__init__()\n",
    "        self.conv1 = nn.Conv2d(1, 25, 12, stride=2, padding=0)\n",
    "        self.conv2 = nn.Conv2d(25, 64, 5, stride=1)\n",
    "        self.pool = nn.MaxPool2d(2, 2)\n",
    "        self.flatten = nn.Flatten()\n",
    "        self.fc1 = nn.Linear(64*2*2, 1024)\n",
    "        self.dropout = nn.Dropout(p=0.2)\n",
    "        self.fc2 = nn.Linear(1024, 10)\n",
    "\n",
    "    def forward(self, x):\n",
    "        x = F.relu(self.conv1(x))\n",
    "        x = F.relu(self.conv2(x))\n",
    "        x = self.pool(x)\n",
    "        x = x.view(-1, 64*2*2)\n",
    "        x = F.relu(self.fc1(x))\n",
    "        x = self.dropout(x)\n",
    "        x = F.softmax(self.fc2(x))\n",
    "\n",
    "        return x\n",
    "\n",
    "\n",
    "net = Net()"
   ]
  },
  {
   "cell_type": "code",
   "execution_count": 4,
   "metadata": {},
   "outputs": [],
   "source": [
    "criterion = nn.CrossEntropyLoss()\n",
    "optimizer = optim.SGD(net.parameters(), lr=0.0001, momentum=0.9)"
   ]
  },
  {
   "cell_type": "markdown",
   "metadata": {},
   "source": [
    "# Defining the training loop"
   ]
  },
  {
   "cell_type": "code",
   "execution_count": 21,
   "metadata": {},
   "outputs": [],
   "source": [
    "def train(net, nb_epochs, optimizer):\n",
    "    for epoch in range(nb_epochs):\n",
    "        running_loss = 0.0\n",
    "        for i, data in enumerate(trainloader):\n",
    "            inputs, labels = data\n",
    "            optimizer.zero_grad()\n",
    "            outputs = net(inputs)\n",
    "            loss = criterion(outputs, labels)\n",
    "            loss.backward()\n",
    "            optimizer.step()\n",
    "        \n",
    "            running_loss += loss.item()\n",
    "        \n",
    "            if i % 500 == 499:    # print every 2000 mini-batches\n",
    "                print('[%d, %5d] loss: %.3f' %(epoch + 1, i + 1, running_loss / 500))\n",
    "                running_loss = 0.0\n",
    "            \n",
    "    print('Finished training')"
   ]
  },
  {
   "cell_type": "markdown",
   "metadata": {},
   "source": [
    "# Training and testing the model"
   ]
  },
  {
   "cell_type": "code",
   "execution_count": 17,
   "metadata": {},
   "outputs": [
    {
     "name": "stderr",
     "output_type": "stream",
     "text": [
      "<ipython-input-3-8700678e87a4>:23: UserWarning: Implicit dimension choice for softmax has been deprecated. Change the call to include dim=X as an argument.\n",
      "  x = F.softmax(self.fc2(x))\n"
     ]
    },
    {
     "name": "stdout",
     "output_type": "stream",
     "text": [
      "[1,   500] loss: 2.302\n",
      "[1,  1000] loss: 2.300\n",
      "[2,   500] loss: 2.297\n",
      "[2,  1000] loss: 2.293\n",
      "[3,   500] loss: 2.251\n",
      "[3,  1000] loss: 2.077\n",
      "[4,   500] loss: 1.799\n",
      "[4,  1000] loss: 1.764\n",
      "[5,   500] loss: 1.738\n",
      "[5,  1000] loss: 1.695\n",
      "[6,   500] loss: 1.664\n",
      "[6,  1000] loss: 1.658\n",
      "[7,   500] loss: 1.646\n",
      "[7,  1000] loss: 1.643\n",
      "[8,   500] loss: 1.589\n",
      "[8,  1000] loss: 1.578\n",
      "[9,   500] loss: 1.564\n",
      "[9,  1000] loss: 1.561\n",
      "[10,   500] loss: 1.553\n",
      "[10,  1000] loss: 1.551\n",
      "[11,   500] loss: 1.542\n",
      "[11,  1000] loss: 1.543\n",
      "[12,   500] loss: 1.536\n",
      "[12,  1000] loss: 1.536\n",
      "[13,   500] loss: 1.530\n",
      "[13,  1000] loss: 1.532\n",
      "[14,   500] loss: 1.525\n",
      "[14,  1000] loss: 1.527\n",
      "[15,   500] loss: 1.522\n",
      "[15,  1000] loss: 1.523\n",
      "[16,   500] loss: 1.518\n",
      "[16,  1000] loss: 1.521\n",
      "[17,   500] loss: 1.515\n",
      "[17,  1000] loss: 1.517\n",
      "[18,   500] loss: 1.513\n",
      "[18,  1000] loss: 1.514\n",
      "[19,   500] loss: 1.510\n",
      "[19,  1000] loss: 1.512\n",
      "[20,   500] loss: 1.508\n",
      "[20,  1000] loss: 1.510\n",
      "[21,   500] loss: 1.506\n",
      "[21,  1000] loss: 1.508\n",
      "[22,   500] loss: 1.504\n",
      "[22,  1000] loss: 1.507\n",
      "[23,   500] loss: 1.502\n",
      "[23,  1000] loss: 1.505\n",
      "[24,   500] loss: 1.501\n",
      "[24,  1000] loss: 1.504\n",
      "[25,   500] loss: 1.500\n",
      "[25,  1000] loss: 1.502\n",
      "Finished training\n",
      "96.62666666666667\n"
     ]
    }
   ],
   "source": [
    "# Train for 25 epochs\n",
    "net = Net()\n",
    "optimizer = optim.SGD(net.parameters(), lr=0.001, momentum=0.9)\n",
    "train(net, 25, optimizer)\n",
    "print(test_accuracy(net))"
   ]
  },
  {
   "cell_type": "code",
   "execution_count": 20,
   "metadata": {},
   "outputs": [],
   "source": [
    "torch.save(net_new.state_dict(), './mnist_pytorch_lrhigh_25e.pth')"
   ]
  },
  {
   "cell_type": "code",
   "execution_count": 15,
   "metadata": {},
   "outputs": [],
   "source": [
    "torch.save(net.state_dict(), './mnist_pytorch_100e.pth')"
   ]
  },
  {
   "cell_type": "code",
   "execution_count": 7,
   "metadata": {},
   "outputs": [],
   "source": [
    "# testing the model\n",
    "def test_accuracy(net):\n",
    "    correct = 0\n",
    "    total = 0\n",
    "    with torch.no_grad():\n",
    "        for data in testloader:\n",
    "            images, labels = data\n",
    "            outputs = net(images)\n",
    "            _, predicted = torch.max(outputs.data, 1)\n",
    "            total += labels.size(0)\n",
    "            correct += (predicted == labels).sum().item()\n",
    "    return 100 * correct / total"
   ]
  },
  {
   "cell_type": "markdown",
   "metadata": {},
   "source": [
    "# Accuracy over number of epochs"
   ]
  },
  {
   "cell_type": "code",
   "execution_count": null,
   "metadata": {},
   "outputs": [],
   "source": [
    "accuracies = []\n",
    "for nb_epochs in range(1, 36, 5):\n",
    "    net = Net()\n",
    "    optimizer = optim.SGD(net.parameters(), lr=0.001, momentum=0.9)\n",
    "    train(net, nb_epochs, optimizer)\n",
    "    acc = test_accuracy(net)\n",
    "    accuracies.append((nb_epochs, acc))"
   ]
  },
  {
   "cell_type": "code",
   "execution_count": 23,
   "metadata": {},
   "outputs": [
    {
     "name": "stdout",
     "output_type": "stream",
     "text": [
      "[(1, 26.906666666666666), (6, 82.37666666666667), (11, 85.31333333333333), (16, 94.98166666666667), (21, 95.75), (26, 96.30333333333333), (31, 96.89166666666667)]\n"
     ]
    }
   ],
   "source": [
    "print(accuracies)"
   ]
  },
  {
   "cell_type": "code",
   "execution_count": 24,
   "metadata": {},
   "outputs": [
    {
     "data": {
      "text/plain": [
       "[<matplotlib.lines.Line2D at 0x7f1752705580>]"
      ]
     },
     "execution_count": 24,
     "metadata": {},
     "output_type": "execute_result"
    },
    {
     "data": {
      "image/png": "[encoded data removed]",
      "text/plain": [
       "<Figure size 432x288 with 1 Axes>"
      ]
     },
     "metadata": {
      "needs_background": "light"
     },
     "output_type": "display_data"
    }
   ],
   "source": [
    "import matplotlib.pyplot as plt\n",
    "%matplotlib inline\n",
    "plt.plot([x for x,_ in accuracies], [y for _,y in accuracies])"
   ]
  },
  {
   "cell_type": "code",
   "execution_count": null,
   "metadata": {},
   "outputs": [],
   "source": []
  }
 ],
 "metadata": {
  "kernelspec": {
   "display_name": "Python 3",
   "language": "python",
   "name": "python3"
  },
  "language_info": {
   "codemirror_mode": {
    "name": "ipython",
    "version": 3
   },
   "file_extension": ".py",
   "mimetype": "text/x-python",
   "name": "python",
   "nbconvert_exporter": "python",
   "pygments_lexer": "ipython3",
   "version": "3.8.5"
  }
 },
 "nbformat": 4,
 "nbformat_minor": 4
}
